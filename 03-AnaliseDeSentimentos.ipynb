{
 "cells": [
  {
   "cell_type": "markdown",
   "metadata": {
    "id": "cb00UB_RnMdK"
   },
   "source": [
    "# Classificação de sequencias"
   ]
  },
  {
   "cell_type": "code",
   "execution_count": 1,
   "metadata": {
    "colab": {
     "base_uri": "https://localhost:8080/"
    },
    "executionInfo": {
     "elapsed": 1354,
     "status": "ok",
     "timestamp": 1605808153500,
     "user": {
      "displayName": "Camila Laranjeira",
      "photoUrl": "https://lh3.googleusercontent.com/a-/AOh14Gihu3QVmkuyR2Al5S_BxrjkrW8O_oUwd2ROuOwQerU=s64",
      "userId": "03895474106233302954"
     },
     "user_tz": 180
    },
    "id": "S-xXidMtnLzA",
    "outputId": "870055b1-35b0-42d8-eda3-adf19e4fec39"
   },
   "outputs": [
    {
     "name": "stderr",
     "output_type": "stream",
     "text": [
      "/home/carloslessa/FCD/Alura/deep-learning-pytorch/rn-recorrentes/venv/lib/python3.10/site-packages/tqdm/auto.py:21: TqdmWarning: IProgress not found. Please update jupyter and ipywidgets. See https://ipywidgets.readthedocs.io/en/stable/user_install.html\n",
      "  from .autonotebook import tqdm as notebook_tqdm\n"
     ]
    },
    {
     "name": "stdout",
     "output_type": "stream",
     "text": [
      "Threads intra-op: 16 | inter-op: 1\n",
      "cpu\n"
     ]
    }
   ],
   "source": [
    "import os, random\n",
    "import numpy as np\n",
    "import seaborn as sns\n",
    "import matplotlib.pyplot as plt\n",
    "sns.set_style('darkgrid')\n",
    "\n",
    "import torch\n",
    "from torch import nn, optim\n",
    "import torchtext\n",
    "from torchtext import data\n",
    "from torchtext import datasets\n",
    "import torch.nn.functional as F\n",
    "import spacy\n",
    "from spacy.cli import download as spacy_download\n",
    "import subprocess\n",
    "import sys\n",
    "\n",
    "SEED = 1234\n",
    "torch.manual_seed(SEED)\n",
    "\n",
    "tokenizer_language='en_core_web_sm'\n",
    "\n",
    "def ensure_spacy_model(model_name, version='3.7.1'):\n",
    "    try:\n",
    "        spacy.load(model_name)\n",
    "    except OSError:\n",
    "        try:\n",
    "            spacy_download(model_name)\n",
    "        except SystemExit:\n",
    "            wheel_url = (\n",
    "                f'https://github.com/explosion/spacy-models/releases/download/'\n",
    "                f'{model_name}-{version}/{model_name}-{version}-py3-none-any.whl'\n",
    "            )\n",
    "            print(f'Baixando modelo spaCy diretamente: {wheel_url}')\n",
    "            try:\n",
    "                subprocess.check_call([sys.executable, '-m', 'pip', 'install', wheel_url])\n",
    "            except subprocess.CalledProcessError as err:\n",
    "                raise RuntimeError(f'Falha ao instalar {model_name} via pip: {err}')\n",
    "        spacy.load(model_name)\n",
    "\n",
    "ensure_spacy_model(tokenizer_language)\n",
    "\n",
    "num_cores = max(1, (os.cpu_count() or 1))\n",
    "torch.set_num_threads(num_cores)\n",
    "torch.set_num_interop_threads(1)\n",
    "os.environ['OMP_NUM_THREADS'] = str(num_cores)\n",
    "os.environ['MKL_NUM_THREADS'] = str(num_cores)\n",
    "os.environ['OPENBLAS_NUM_THREADS'] = str(num_cores)\n",
    "torch.backends.mkldnn.enabled = True\n",
    "print(f'Threads intra-op: {torch.get_num_threads()} | inter-op: {torch.get_num_interop_threads()}')\n",
    "\n",
    "# device = torch.device('cuda') if torch.cuda.is_available() else torch.device('cpu')\n",
    "device = torch.device('cpu')\n",
    "print(device)\n"
   ]
  },
  {
   "cell_type": "markdown",
   "metadata": {
    "id": "ubA3cKHa57Sm"
   },
   "source": [
    "## IMDb Reviews\n",
    "\n",
    "\n",
    "<img src=\"imdb_reviews.png\" width=\"700\">\n"
   ]
  },
  {
   "cell_type": "markdown",
   "metadata": {
    "id": "rvXopZV79go7"
   },
   "source": [
    "## Torchtext\n",
    "\n",
    "Similar ao torchvision para imagens, o pacote torchtext facilita o trabalho com texto, oferecendo ferramentas aproveitáveis para outros dados sequenciais.\n",
    "\n",
    "Um dos seus principais elementos é o `Field`, objeto que carrega informações de como os dados devem ser processados. \n",
    "\n",
    "No nosso caso temos dois dados:\n",
    "* Texto: Uma sequência de caracteres que será dividida em **tokens**. Armazenaremos também os tamanhos das frases pois mais a frente veremos como trabalhar com sequências de tamanhos variáveis\n",
    "\n",
    "  * Ex: \"Bom dia Brasil!\" $\\rightarrow$ `[\"bom\", \"dia\", \"brasil\", \"!\"]`\n",
    "\n",
    "```python\n",
    "TEXT = data.Field(tokenize = 'spacy', include_lengths = True)\n",
    "```\n",
    "\n",
    "* Label: Categorias descritas como \"pos\" e \"neg\". Essas serão transformadas para valores numéricos {neg: 0, pos: 1}\n",
    "\n",
    "```python\n",
    "LABEL = data.LabelField(dtype = torch.long)\n",
    "```\n",
    "\n"
   ]
  },
  {
   "cell_type": "code",
   "execution_count": 2,
   "metadata": {
    "executionInfo": {
     "elapsed": 72902,
     "status": "ok",
     "timestamp": 1605805535980,
     "user": {
      "displayName": "Camila Laranjeira",
      "photoUrl": "https://lh3.googleusercontent.com/a-/AOh14Gihu3QVmkuyR2Al5S_BxrjkrW8O_oUwd2ROuOwQerU=s64",
      "userId": "03895474106233302954"
     },
     "user_tz": 180
    },
    "id": "yt6PkjUkX69y"
   },
   "outputs": [],
   "source": [
    "TEXT = data.Field(tokenize = 'spacy', include_lengths = True, tokenizer_language='en_core_web_sm')\n",
    "LABEL = data.LabelField(dtype = torch.long)\n",
    "\n",
    "train_data, test_data = datasets.IMDB.splits(TEXT, LABEL)\n",
    "train_data, valid_data = train_data.split(random_state = random.seed(SEED))"
   ]
  },
  {
   "cell_type": "code",
   "execution_count": 3,
   "metadata": {
    "colab": {
     "base_uri": "https://localhost:8080/"
    },
    "executionInfo": {
     "elapsed": 898,
     "status": "ok",
     "timestamp": 1605805353049,
     "user": {
      "displayName": "Camila Laranjeira",
      "photoUrl": "https://lh3.googleusercontent.com/a-/AOh14Gihu3QVmkuyR2Al5S_BxrjkrW8O_oUwd2ROuOwQerU=s64",
      "userId": "03895474106233302954"
     },
     "user_tz": 180
    },
    "id": "d_MP4qtcqgOT",
    "outputId": "4f9096e7-d4f3-4904-992b-26daea32f1a2"
   },
   "outputs": [
    {
     "name": "stdout",
     "output_type": "stream",
     "text": [
      "{'text': ['A', 'long', '-', 'defunct', 'prison', ',', 'shut', 'down', 'for', 'over', '20', 'years', ',', 'is', 're', '-', 'opened', 'and', 'Ethan', 'Sharpe', '(', 'the', 'late', ',', 'great', 'character', 'actor', 'Lane', 'Smith', ')', ',', 'once', 'a', 'guard', 'there', ',', 'is', 'put', 'in', 'place', 'as', 'warden', '.', 'As', 'the', 'prisoners', 'are', 'put', 'to', 'work', 'fixing', 'the', 'place', 'up', ',', 'they', \"'re\", 'instructed', 'to', 'break', 'into', 'the', 'old', 'execution', 'room', '.', 'This', 'unleashes', 'a', 'fierce', 'spirit', 'that', 'wreaks', 'merciless', 'havoc', 'upon', 'both', 'guards', 'and', 'prisoners', ';', 'cool', '-', 'as', '-', 'can', '-', 'be', 'low', '-', 'key', 'prisoner', 'Burke', '(', 'Viggo', 'Mortensen', ',', 'showing', 'real', 'poise', 'in', 'an', 'early', 'role', ')', 'is', 'thrust', 'into', 'the', 'role', 'of', 'hero.<br', '/><br', '/>I', 'know', 'it', \"'s\", 'a', 'no', '-', 'brainer', 'to', 'praise', 'the', 'film', 'for', 'its', 'atmosphere', '(', 'it', 'was', 'shot', 'in', 'an', 'actual', 'abandoned', 'penitentiary', 'near', 'Rawlins', ',', 'Wyoming', ')', ',', 'but', 'it', 'elevates', 'this', 'horror', 'film', 'to', 'a', 'higher', 'level', '.', 'It', \"'s\", 'got', 'a', 'great', 'sense', 'of', 'foreboding', ',', 'established', 'right', 'at', 'the', 'outset', '.', 'Director', 'Renny', 'Harlin', 'made', 'his', 'fourth', 'directorial', 'effort', 'here', ';', 'it', 'got', 'him', 'the', '\"', 'Nightmare', 'on', 'Elm', 'Street', '4', '\"', 'directing', 'gig', 'and', 'effectively', 'began', 'an', 'impressive', 'career', 'in', 'mainstream', 'action', 'movies', ',', 'thrillers', ',', 'and', 'horror', 'films.<br', '/><br', '/>It', 'may', 'have', 'stock', 'characters', ',', 'but', 'it', \"'s\", 'got', 'a', 'capable', 'cast', 'bringing', 'them', 'to', 'life', ':', 'Chelsea', 'Field', 'as', 'the', 'young', 'woman', 'vying', 'for', 'prison', 'reform', ',', 'Lincoln', 'Kilpatrick', 'as', 'weary', 'veteran', 'convict', 'Cresus', ',', 'Tom', 'Everett', 'as', 'restless', 'con', 'Rabbitt', ',', 'Ivan', 'Kane', 'as', 'the', 'outgoing', 'Lasagna', ',', 'Tommy', '\"', 'Tiny', '\"', 'Lister', 'as', 'soft', '-', 'spoken', 'giant', 'Tiny', ',', 'and', 'Arlen', 'Dean', 'Snyder', 'as', 'Captain', 'Horton', '.', 'It', \"'s\", 'also', 'worth', 'noting', 'as', 'an', 'early', 'acting', 'credit', 'for', 'Kane', 'Hodder', '(', 'as', 'the', 'vengeful', 'spirit', ')', 'that', 'helped', '*', 'him', '*', 'land', 'the', 'gig', 'of', 'playing', 'Jason', 'Voorhees', 'in', 'the', '\"', 'Friday', 'the', '13th', '\"', 'series.<br', '/><br', '/>Decent', 'special', 'effects', ',', 'moody', 'lighting', 'courtesy', 'of', 'prolific', 'genre', 'cinematographer', 'Mac', 'Ahlberg', ',', 'spooky', 'music', 'by', 'Richard', 'Band', 'and', 'Christopher', 'Stone', ',', 'great', 'visuals', ',', 'the', 'incredibly', 'gloomy', 'location', ',', 'and', 'an', 'overall', 'flashy', 'and', 'intense', 'presentation', 'help', 'to', 'make', 'it', 'quite', 'entertaining', '.', 'It', \"'s\", 'nasty', ',', 'gruesome', ',', 'and', 'good', 'fun', 'for', 'a', 'horror', 'fan.<br', '/><br', '/>8/10'], 'label': 'pos'}\n"
     ]
    }
   ],
   "source": [
    "for sample in valid_data:\n",
    "  \n",
    "  print(vars(sample))\n",
    "  \n",
    "  texto = sample.text\n",
    "  label = sample.label\n",
    "\n",
    "  break"
   ]
  },
  {
   "cell_type": "markdown",
   "metadata": {
    "id": "vB6JRySs5_Yl"
   },
   "source": [
    "## Representação do Dado"
   ]
  },
  {
   "cell_type": "markdown",
   "metadata": {
    "id": "JhX-YiRv8o-C"
   },
   "source": [
    "\n",
    "### Vocabulário\n",
    "\n",
    "Uma pergunta que pode ter passado na sua cabeça: como alimentamos uma rede neural com palavras de um texto?\n",
    "\n",
    "Para transformar palavras em dados numéricos, a solução mais simples é mapeá-las em um dicionário contendo o vocabulário completo do conjunto. \n",
    "\n",
    "<img src=\"https://static.packt-cdn.com/products/9781786465825/graphics/B05525_03_01.jpg\" width=\"500\">\n",
    "\n",
    "Podemos fazer isso chamando a função **```build_vocab```** nos nossos fields. Como datasets de texto podem chegar a centenas de milhares de palavras, é importante definir um limite superior para o número de palavras mapeadas pelo dicionário. No código a seguir, esse limite é definido como ```MAX_VOCAB_SIZE = 25000```\n",
    "\n",
    "Atenção também para o parâmetro ```vectors = \"glove.6B.100d\"```. O GloVe (Global Vectors) é um método de representação de palavras que explicaremos em maiores detalhes mais a frente. A princípio basta saber que o modelo \"glove.**6B**.**100d**\" foi treinado em **6 bilhões** de tokens e gera uma representação latente de dimensionalidade  **d = 100**"
   ]
  },
  {
   "cell_type": "code",
   "execution_count": 4,
   "metadata": {
    "executionInfo": {
     "elapsed": 2617,
     "status": "ok",
     "timestamp": 1605805538606,
     "user": {
      "displayName": "Camila Laranjeira",
      "photoUrl": "https://lh3.googleusercontent.com/a-/AOh14Gihu3QVmkuyR2Al5S_BxrjkrW8O_oUwd2ROuOwQerU=s64",
      "userId": "03895474106233302954"
     },
     "user_tz": 180
    },
    "id": "Elt4DdPSqfEO"
   },
   "outputs": [],
   "source": [
    "MAX_VOCAB_SIZE = 25_000\n",
    "\n",
    "TEXT.build_vocab(train_data, \n",
    "                 max_size = MAX_VOCAB_SIZE, \n",
    "                 vectors = \"glove.6B.100d\", \n",
    "                 unk_init = torch.Tensor.normal_)\n",
    "\n",
    "LABEL.build_vocab(train_data)"
   ]
  },
  {
   "cell_type": "code",
   "execution_count": 5,
   "metadata": {
    "colab": {
     "base_uri": "https://localhost:8080/"
    },
    "executionInfo": {
     "elapsed": 712,
     "status": "ok",
     "timestamp": 1605805385824,
     "user": {
      "displayName": "Camila Laranjeira",
      "photoUrl": "https://lh3.googleusercontent.com/a-/AOh14Gihu3QVmkuyR2Al5S_BxrjkrW8O_oUwd2ROuOwQerU=s64",
      "userId": "03895474106233302954"
     },
     "user_tz": 180
    },
    "id": "H9NC0QvRrgJ-",
    "outputId": "572a4a03-3b44-46da-9dac-7a0d92f5cae2"
   },
   "outputs": [
    {
     "name": "stdout",
     "output_type": "stream",
     "text": [
      "Tamanho do vocabulario 25002 \n",
      "\n",
      "['<unk>', '<pad>', 'the', ',', '.', 'and', 'a', 'of', 'to', 'is'] \n",
      " defaultdict(None, {'neg': 0, 'pos': 1}) \n",
      "\n"
     ]
    },
    {
     "data": {
      "text/plain": [
       "[('the', 202265),\n",
       " (',', 192856),\n",
       " ('.', 165703),\n",
       " ('and', 109310),\n",
       " ('a', 109266),\n",
       " ('of', 100544),\n",
       " ('to', 93539),\n",
       " ('is', 76230),\n",
       " ('in', 61314),\n",
       " ('I', 54374),\n",
       " ('it', 53662),\n",
       " ('that', 49248),\n",
       " ('\"', 44431),\n",
       " (\"'s\", 43509),\n",
       " ('this', 42411),\n",
       " ('-', 37336),\n",
       " ('was', 35339),\n",
       " ('/><br', 35320),\n",
       " ('as', 30359),\n",
       " ('with', 29900)]"
      ]
     },
     "execution_count": 5,
     "metadata": {},
     "output_type": "execute_result"
    }
   ],
   "source": [
    "print('Tamanho do vocabulario', len(TEXT.vocab),'\\n')\n",
    "print(TEXT.vocab.itos[:10],'\\n', LABEL.vocab.stoi, '\\n')\n",
    "TEXT.vocab.freqs.most_common(20)"
   ]
  },
  {
   "cell_type": "markdown",
   "metadata": {
    "id": "YK7XBwF48kNS"
   },
   "source": [
    "### Embedding Layer\n",
    "\n",
    "Documentação Pytorch: https://pytorch.org/docs/stable/nn.html#torch.nn.Embedding\n",
    "\n",
    "Camadas de embedding são treinadas para mapear um ínidice numérico para um vetor denso de maior carga semântica.\n",
    "\n",
    "Acabamos de ver a representação de palaras como ínidices de um vocabulário fixo. Apesar do índice informar a qual palavra estamos nos referindo, ele não incorpora nenhuma informação semântica sobre a palavra. O treinamento de embeddings para dados textuais tem como objetivo projetar esses índices em um espaço onde palavras semanticamente similares estejam próximas.\n",
    "\n",
    "![](https://drive.google.com/uc?export=view&id=1pliMSOcjjOZAiR26ycowSeUJsj5cy9W_)\n",
    "\n",
    "No Pytorch, a instância dessa classe recebe como parâmetro ```(vocab_size, embedding_size, padding_idx)```\n",
    "* ```vocab_size```: Tamanho do vocabulário. Note que **não** se trata da dimensionalidade da entrada.\n",
    "* ```embedding_size```: Dimensionalidade da dimensão latente. Caso haja o aproveitamento de embeddings pré treinadas deve-se definir a dimensionalidade da camada em função dos pesos que serão importados (ex: glove.6b.100d, ```embedding_size=100```).\n"
   ]
  },
  {
   "cell_type": "code",
   "execution_count": 6,
   "metadata": {
    "colab": {
     "base_uri": "https://localhost:8080/"
    },
    "executionInfo": {
     "elapsed": 910,
     "status": "ok",
     "timestamp": 1605796642068,
     "user": {
      "displayName": "Camila Laranjeira",
      "photoUrl": "https://lh3.googleusercontent.com/a-/AOh14Gihu3QVmkuyR2Al5S_BxrjkrW8O_oUwd2ROuOwQerU=s64",
      "userId": "03895474106233302954"
     },
     "user_tz": 180
    },
    "id": "EcHexFrQ47y_",
    "outputId": "71d97d57-7912-446a-b6a6-5779563ace2e"
   },
   "outputs": [
    {
     "name": "stdout",
     "output_type": "stream",
     "text": [
      "RNN(\n",
      "  (embedding): Embedding(25002, 100)\n",
      ")\n"
     ]
    }
   ],
   "source": [
    "class RNN(nn.Module):\n",
    "  \n",
    "  def __init__(self, tam_vocab, tam_embedding, embed_vectors, \n",
    "               ind_unk, ind_pad):\n",
    "    super(RNN, self).__init__()\n",
    "\n",
    "    # Inicializaremos a camada de embedding\n",
    "    self.embedding = nn.Embedding(tam_vocab, tam_embedding)\n",
    "    self.embedding.weight.data.copy_(embed_vectors)\n",
    "    self.embedding.weight.data[ind_unk] = torch.zeros(tam_embedding)\n",
    "    self.embedding.weight.data[ind_pad] = torch.zeros(tam_embedding)\n",
    "    #######################################\n",
    "\n",
    "\n",
    "  def forward(self, X):\n",
    "    vectors = self.embedding(X)\n",
    "\n",
    "\n",
    "tam_vocab = len(TEXT.vocab)\n",
    "tam_embedding = 100 # glove 100d\n",
    "embed_vectors = TEXT.vocab.vectors\n",
    "ind_pad = TEXT.vocab.stoi[TEXT.pad_token]\n",
    "ind_unk = TEXT.vocab.stoi[TEXT.unk_token]\n",
    "\n",
    "model = RNN(tam_vocab, tam_embedding, embed_vectors, \n",
    "               ind_unk, ind_pad)\n",
    "\n",
    "print(model)"
   ]
  },
  {
   "cell_type": "markdown",
   "metadata": {
    "id": "qNmIIy1lsllL"
   },
   "source": [
    "## BucketIterator\n",
    "Essa classe do Torchtext funciona de forma análoga ao DataLoader do PyTorch,  porém leva em consideração a construção de **batches com sequências de comprimento variável**. Internamente ele agrega sequências de comprimento similar, **minimizando a quantidade de padding necessária**. \n",
    "\n",
    "Além disso, os dados já saem preparados para serem empacotados pela função ```pack_padded_sequence``` ordenados por comprimento de sequência e informando o comprimento real de cada amostra (sem padding).\n",
    "\n",
    "> Exemplo: Para compor um tensor com 5 amostras de frases com tamanhos variáveis, a segunda dimensão é definida pela frase de maior comprimento. Amostras menores são complementadas com tokens nulos (`<pad>`). \n",
    "\n",
    "<img src=\"bucket_iterator.png\" width=\"450\">\n",
    "\n",
    "\n",
    "Documentação: https://torchtext.readthedocs.io/en/latest/data.html?highlight=BucketIterator#torchtext.data.BucketIterator\n"
   ]
  },
  {
   "cell_type": "code",
   "execution_count": 7,
   "metadata": {
    "executionInfo": {
     "elapsed": 1004,
     "status": "ok",
     "timestamp": 1605805539622,
     "user": {
      "displayName": "Camila Laranjeira",
      "photoUrl": "https://lh3.googleusercontent.com/a-/AOh14Gihu3QVmkuyR2Al5S_BxrjkrW8O_oUwd2ROuOwQerU=s64",
      "userId": "03895474106233302954"
     },
     "user_tz": 180
    },
    "id": "3tgX3QPur4fI"
   },
   "outputs": [],
   "source": [
    "BATCH_SIZE = 64\n",
    "\n",
    "# device = torch.device('cuda' if torch.cuda.is_available() else 'cpu')\n",
    "device = 'cpu'\n",
    "\n",
    "train_iterator, valid_iterator, test_iterator = data.BucketIterator.splits(\n",
    "    (train_data, valid_data, test_data), \n",
    "    batch_size = BATCH_SIZE,\n",
    "    sort_within_batch = True,\n",
    "    device = device)"
   ]
  },
  {
   "cell_type": "code",
   "execution_count": 8,
   "metadata": {
    "colab": {
     "base_uri": "https://localhost:8080/"
    },
    "executionInfo": {
     "elapsed": 890,
     "status": "ok",
     "timestamp": 1605804577882,
     "user": {
      "displayName": "Camila Laranjeira",
      "photoUrl": "https://lh3.googleusercontent.com/a-/AOh14Gihu3QVmkuyR2Al5S_BxrjkrW8O_oUwd2ROuOwQerU=s64",
      "userId": "03895474106233302954"
     },
     "user_tz": 180
    },
    "id": "twkpKCD8tioW",
    "outputId": "cad3b2bd-38fe-4237-fc3a-faf89a5535f1"
   },
   "outputs": [
    {
     "name": "stdout",
     "output_type": "stream",
     "text": [
      "Texto: torch.Size([48, 64]), Tamanho: torch.Size([64]), Label: torch.Size([64]) \n",
      "\n",
      "tensor([48, 47, 47, 47, 47, 47, 46, 46, 46, 46, 46, 46, 46, 46, 45, 45, 45, 45,\n",
      "        44, 44, 44, 44, 44, 43, 43, 43, 42, 42, 42, 42, 42, 41, 41, 41, 41, 41,\n",
      "        40, 40, 40, 40, 40, 40, 39, 39, 38, 38, 38, 38, 37, 36, 36, 36, 35, 35,\n",
      "        35, 34, 33, 33, 32, 32, 27, 24, 22, 13])\n"
     ]
    }
   ],
   "source": [
    "for sample in valid_iterator:\n",
    "\n",
    "  texto, tamanho = sample.text\n",
    "  label = sample.label\n",
    "  \n",
    "  print(f'Texto: {texto.shape}, Tamanho: {tamanho.shape}, Label: {label.shape} \\n', )\n",
    "\n",
    "  print(tamanho)\n",
    "\n",
    "  break"
   ]
  },
  {
   "cell_type": "markdown",
   "metadata": {
    "id": "PovfGyNhuwCJ"
   },
   "source": [
    "## Padding and Packing (Preenchendo e empacotando)\n",
    "\n",
    "O pacote de funções de rnn, ```nn.utils.rnn```, oferece meios de processar batches contendo sequências de tamanho variável. Isso é realizado através do **padding** da sequência (ex: preenchimento com zeros),  de modo que elas aparentem ter igual comprimento, porém internamente as posições preenchidas não são processadas pela RNN.\n",
    "\n",
    "*  Vamos lembrar do nosso batch de frases com tamanhos variáveis:\n",
    "\n",
    "<img src=\"bucket_iterator.png\" width=\"450\">\n",
    "\n",
    "\n",
    "*  O empacotamento precisa receber os dados em ordem decrescente de comprimento, e internamente são criados \"mini batches\" com o seu batch. Dessa forma, apenas os timesteps que contém informação relevante sobre o dado são apresentadas à rede. Igualmente, somente esses timesteps impactam no backpropagation.\n",
    "\n",
    "<img src=\"bucket_iterator2.png\" width=\"450\">\n",
    "\n",
    "\n",
    "Para isso basta realizar o padding das suas sequências, **preservando os comprimetos originais** em outra variável. Na prática, o forward recebe mais um parâmetro, aqui chamamos de **```tamanhos```**, referente ao comprimento de cada amostra dentro do batch **```X```**, ordenado de forma descrescente.\n",
    "\n",
    "Tendo em mãos (1) o batch de sequências preenchidas e ordenadas, e (2) o comprimento original de cada amostra, basta realizar as seguintes operações no forward da rede:\n",
    "\n",
    "```python\n",
    "## Empacote a sequência antes de alimentar a unidade recorrente\n",
    "packed_input = nn.utils.rnn.pack_padded_sequence(X, tamanhos)\n",
    "\n",
    "## Forward recorrente\n",
    "packed_output, hidden = self.rnn(packed_input, hidden )\n",
    "\n",
    "## Desempacote a sequência para continuar o fluxo na rede.\n",
    "output, output_lengths = nn.utils.rnn.pad_packed_sequence(packed_output)\n",
    "```"
   ]
  },
  {
   "cell_type": "code",
   "execution_count": 9,
   "metadata": {
    "colab": {
     "base_uri": "https://localhost:8080/"
    },
    "executionInfo": {
     "elapsed": 706,
     "status": "ok",
     "timestamp": 1605799337155,
     "user": {
      "displayName": "Camila Laranjeira",
      "photoUrl": "https://lh3.googleusercontent.com/a-/AOh14Gihu3QVmkuyR2Al5S_BxrjkrW8O_oUwd2ROuOwQerU=s64",
      "userId": "03895474106233302954"
     },
     "user_tz": 180
    },
    "id": "k9NrGiXnuvsg",
    "outputId": "05b7b77c-0d5d-4110-a0f3-489c7fe04472"
   },
   "outputs": [
    {
     "name": "stdout",
     "output_type": "stream",
     "text": [
      "RNN(\n",
      "  (embedding): Embedding(25002, 100)\n",
      "  (rnn): GRU(100, 256)\n",
      ")\n"
     ]
    }
   ],
   "source": [
    "class RNN(nn.Module):\n",
    "  \n",
    "  def __init__(self, tam_vocab, tam_embedding, embed_vectors, \n",
    "               ind_unk, ind_pad, hidden_size):\n",
    "    super(RNN, self).__init__()\n",
    "\n",
    "    # Inicializaremos a camada de embedding\n",
    "    self.embedding = nn.Embedding(tam_vocab, tam_embedding)\n",
    "    self.embedding.weight.data.copy_(embed_vectors)\n",
    "    self.embedding.weight.data[ind_unk] = torch.zeros(tam_embedding)\n",
    "    self.embedding.weight.data[ind_pad] = torch.zeros(tam_embedding)\n",
    "    #######################################\n",
    "\n",
    "    # Camada recorrente\n",
    "    self.hidden_size = hidden_size\n",
    "    self.rnn = nn.GRU(tam_embedding, hidden_size)\n",
    "\n",
    "\n",
    "  def forward(self, X, tamanhos):\n",
    "    print('X:', X.size(), '\\n')\n",
    "    print('tamanhos', tamanhos, '\\n')\n",
    "    vectors = self.embedding(X)\n",
    "    print('Vectors:', vectors.size(), '\\n')\n",
    "\n",
    "    hidden = torch.randn(1, X.size(1), self.hidden_size)\n",
    "\n",
    "    ## Empacote a sequência antes de alimentar a unidade recorrente\n",
    "    packed_input = nn.utils.rnn.pack_padded_sequence(vectors, tamanhos)\n",
    "    print('Packed input:', packed_input.batch_sizes, '\\n')\n",
    "    \n",
    "    ## Forward recorrente\n",
    "    packed_output, hidden = self.rnn(packed_input, hidden )\n",
    "    print('Packed output:', packed_output.batch_sizes, '\\n')\n",
    "\n",
    "    ## Desempacote a sequência para continuar o fluxo na rede.\n",
    "    output, output_lengths = nn.utils.rnn.pad_packed_sequence(packed_output)\n",
    "    print('output:', output.size(), '\\n')\n",
    "\n",
    "    return output\n",
    "\n",
    "\n",
    "tam_vocab = len(TEXT.vocab)\n",
    "tam_embedding = 100 # glove 100d\n",
    "embed_vectors = TEXT.vocab.vectors\n",
    "ind_pad = TEXT.vocab.stoi[TEXT.pad_token]\n",
    "ind_unk = TEXT.vocab.stoi[TEXT.unk_token]\n",
    "\n",
    "hidden_size = 256\n",
    "\n",
    "model = RNN(tam_vocab, tam_embedding, embed_vectors, \n",
    "               ind_unk, ind_pad, hidden_size)\n",
    "\n",
    "print(model)"
   ]
  },
  {
   "cell_type": "code",
   "execution_count": 10,
   "metadata": {
    "colab": {
     "base_uri": "https://localhost:8080/"
    },
    "executionInfo": {
     "elapsed": 641,
     "status": "ok",
     "timestamp": 1605799339455,
     "user": {
      "displayName": "Camila Laranjeira",
      "photoUrl": "https://lh3.googleusercontent.com/a-/AOh14Gihu3QVmkuyR2Al5S_BxrjkrW8O_oUwd2ROuOwQerU=s64",
      "userId": "03895474106233302954"
     },
     "user_tz": 180
    },
    "id": "Sq0lxCK3ExA1",
    "outputId": "29de3fe6-5aee-4343-ee9c-a9c4c6828fdf"
   },
   "outputs": [
    {
     "name": "stdout",
     "output_type": "stream",
     "text": [
      "X: torch.Size([48, 64]) \n",
      "\n",
      "tamanhos tensor([48, 47, 47, 47, 47, 47, 46, 46, 46, 46, 46, 46, 46, 46, 45, 45, 45, 45,\n",
      "        44, 44, 44, 44, 44, 43, 43, 43, 42, 42, 42, 42, 42, 41, 41, 41, 41, 41,\n",
      "        40, 40, 40, 40, 40, 40, 39, 39, 38, 38, 38, 38, 37, 36, 36, 36, 35, 35,\n",
      "        35, 34, 33, 33, 32, 32, 27, 24, 22, 13]) \n",
      "\n",
      "Vectors: torch.Size([48, 64, 100]) \n",
      "\n",
      "Packed input: tensor([64, 64, 64, 64, 64, 64, 64, 64, 64, 64, 64, 64, 64, 63, 63, 63, 63, 63,\n",
      "        63, 63, 63, 63, 62, 62, 61, 61, 61, 60, 60, 60, 60, 60, 58, 56, 55, 52,\n",
      "        49, 48, 44, 42, 36, 31, 26, 23, 18, 14,  6,  1]) \n",
      "\n",
      "Packed output: tensor([64, 64, 64, 64, 64, 64, 64, 64, 64, 64, 64, 64, 64, 63, 63, 63, 63, 63,\n",
      "        63, 63, 63, 63, 62, 62, 61, 61, 61, 60, 60, 60, 60, 60, 58, 56, 55, 52,\n",
      "        49, 48, 44, 42, 36, 31, 26, 23, 18, 14,  6,  1]) \n",
      "\n",
      "output: torch.Size([48, 64, 256]) \n",
      "\n"
     ]
    }
   ],
   "source": [
    "for sample in valid_iterator:\n",
    "  texto, tamanhos = sample.text\n",
    "  label = sample.label\n",
    "\n",
    "  saida = model(texto, tamanhos)\n",
    "  break"
   ]
  },
  {
   "cell_type": "markdown",
   "metadata": {
    "id": "pxsqnPxxEwog"
   },
   "source": [
    "## Classificando Sequências\n"
   ]
  },
  {
   "cell_type": "code",
   "execution_count": 11,
   "metadata": {
    "colab": {
     "base_uri": "https://localhost:8080/"
    },
    "executionInfo": {
     "elapsed": 817,
     "status": "ok",
     "timestamp": 1605808491741,
     "user": {
      "displayName": "Camila Laranjeira",
      "photoUrl": "https://lh3.googleusercontent.com/a-/AOh14Gihu3QVmkuyR2Al5S_BxrjkrW8O_oUwd2ROuOwQerU=s64",
      "userId": "03895474106233302954"
     },
     "user_tz": 180
    },
    "id": "VLToh3B8Kgzb",
    "outputId": "ba9a929b-75f5-48d5-d566-8380aba1e1bb"
   },
   "outputs": [
    {
     "name": "stdout",
     "output_type": "stream",
     "text": [
      "RNN(\n",
      "  (embedding): Embedding(25002, 100)\n",
      "  (rnn): GRU(100, 256)\n",
      "  (linear): Linear(in_features=256, out_features=2, bias=True)\n",
      ")\n"
     ]
    }
   ],
   "source": [
    "class RNN(nn.Module):\n",
    "  \n",
    "  def __init__(self, tam_vocab, tam_embedding, embed_vectors, \n",
    "               ind_unk, ind_pad, hidden_size, output_size):\n",
    "    super(RNN, self).__init__()\n",
    "\n",
    "    # Inicializaremos a camada de embedding\n",
    "    self.embedding = nn.Embedding(tam_vocab, tam_embedding)\n",
    "    self.embedding.weight.data.copy_(embed_vectors)\n",
    "    self.embedding.weight.data[ind_unk] = torch.zeros(tam_embedding)\n",
    "    self.embedding.weight.data[ind_pad] = torch.zeros(tam_embedding)\n",
    "    #######################################\n",
    "\n",
    "    self.hidden_size = hidden_size\n",
    "    self.rnn = nn.GRU(tam_embedding, hidden_size)\n",
    "    self.linear = nn.Linear(hidden_size, output_size)\n",
    "\n",
    "\n",
    "  def forward(self, X, tamanhos):\n",
    "    vectors = self.embedding(X)\n",
    "\n",
    "    hidden = torch.zeros(1, X.size(1), self.hidden_size).to(device)\n",
    "\n",
    "    packed_input = nn.utils.rnn.pack_padded_sequence(vectors, tamanhos)\n",
    "    packed_output, hidden = self.rnn(packed_input, hidden )\n",
    "    output, output_lengths = nn.utils.rnn.pad_packed_sequence(packed_output)\n",
    "    \n",
    "    # print('output:', output.size())\n",
    "    output = F.adaptive_max_pool1d(output.permute(1,2,0), 1)\n",
    "    # print('output pool:', output.size())\n",
    "    output = self.linear(output.squeeze())\n",
    "    # print('output linear:', output.size())\n",
    "\n",
    "    return output\n",
    "\n",
    "\n",
    "tam_vocab = len(TEXT.vocab)\n",
    "tam_embedding = 100 # glove 100d\n",
    "embed_vectors = TEXT.vocab.vectors\n",
    "ind_pad = TEXT.vocab.stoi[TEXT.pad_token]\n",
    "ind_unk = TEXT.vocab.stoi[TEXT.unk_token]\n",
    "\n",
    "hidden_size = 256\n",
    "output_size = 2\n",
    "\n",
    "model = RNN(tam_vocab, tam_embedding, embed_vectors, \n",
    "               ind_unk, ind_pad, hidden_size, output_size)\n",
    "\n",
    "model = model.to(device)\n",
    "\n",
    "print(model)"
   ]
  },
  {
   "cell_type": "code",
   "execution_count": 12,
   "metadata": {
    "colab": {
     "base_uri": "https://localhost:8080/"
    },
    "executionInfo": {
     "elapsed": 865,
     "status": "ok",
     "timestamp": 1605805409674,
     "user": {
      "displayName": "Camila Laranjeira",
      "photoUrl": "https://lh3.googleusercontent.com/a-/AOh14Gihu3QVmkuyR2Al5S_BxrjkrW8O_oUwd2ROuOwQerU=s64",
      "userId": "03895474106233302954"
     },
     "user_tz": 180
    },
    "id": "Td4r75xLat14",
    "outputId": "889d828d-21a2-44de-8697-db3d6a401885"
   },
   "outputs": [],
   "source": [
    "for sample in valid_iterator:\n",
    "  texto, tamanhos = sample.text\n",
    "  label = sample.label\n",
    "\n",
    "  saida = model(texto, tamanhos.cpu())\n",
    "  break"
   ]
  },
  {
   "cell_type": "markdown",
   "metadata": {
    "id": "xz1VnPMvbdXb"
   },
   "source": [
    "### Loss e Otimizador"
   ]
  },
  {
   "cell_type": "code",
   "execution_count": 13,
   "metadata": {
    "executionInfo": {
     "elapsed": 676,
     "status": "ok",
     "timestamp": 1605808496161,
     "user": {
      "displayName": "Camila Laranjeira",
      "photoUrl": "https://lh3.googleusercontent.com/a-/AOh14Gihu3QVmkuyR2Al5S_BxrjkrW8O_oUwd2ROuOwQerU=s64",
      "userId": "03895474106233302954"
     },
     "user_tz": 180
    },
    "id": "iBtJ1U5fbaL9"
   },
   "outputs": [],
   "source": [
    "criterio = nn.CrossEntropyLoss().to(device)\n",
    "optimizer = optim.Adam(model.parameters(), lr=1e-4, weight_decay=5e-5)"
   ]
  },
  {
   "cell_type": "code",
   "execution_count": 14,
   "metadata": {
    "executionInfo": {
     "elapsed": 802,
     "status": "ok",
     "timestamp": 1605808501977,
     "user": {
      "displayName": "Camila Laranjeira",
      "photoUrl": "https://lh3.googleusercontent.com/a-/AOh14Gihu3QVmkuyR2Al5S_BxrjkrW8O_oUwd2ROuOwQerU=s64",
      "userId": "03895474106233302954"
     },
     "user_tz": 180
    },
    "id": "AQCV6VRjbuqF"
   },
   "outputs": [],
   "source": [
    "def forward(iterator, num_samples, etapa):\n",
    "  if etapa == 'Treino': model.train()\n",
    "  else: model.eval()\n",
    "\n",
    "  acuracia = 0.\n",
    "  loss_epoca = []\n",
    "  for k, sample in enumerate(iterator):\n",
    "      \n",
    "    texto, tamanhos = sample.text\n",
    "    rotulo = sample.label\n",
    "\n",
    "    saida = model(texto, tamanhos.cpu())\n",
    "\n",
    "    loss = criterio(saida, rotulo)\n",
    "    loss_epoca.append(loss.detach().cpu().numpy())\n",
    "\n",
    "    _, pred = torch.max(saida, axis=-1)\n",
    "    acuracia += (pred.cpu().data == rotulo.cpu().data).sum()\n",
    "    \n",
    "    if etapa == 'Treino':\n",
    "      # Otimização\n",
    "      optimizer.zero_grad()\n",
    "      loss.backward()\n",
    "      optimizer.step()\n",
    "\n",
    "  loss_epoca = np.asarray(loss_epoca).ravel()\n",
    "  acuracia   = acuracia/float(num_samples)\n",
    "  print('\\n','*'*15 + etapa + '*'*15 )\n",
    "  print('Epoca: {:}, Loss: {:.4f} +/- {:.4f}, Acurácia: {:.4f}'.format(epoca, loss_epoca.mean(), \n",
    "                                                                        loss_epoca.std(), \n",
    "                                                                        acuracia\n",
    "                                                                       )) \n",
    "  return loss_epoca.mean(), acuracia"
   ]
  },
  {
   "cell_type": "code",
   "execution_count": null,
   "metadata": {
    "colab": {
     "base_uri": "https://localhost:8080/"
    },
    "executionInfo": {
     "elapsed": 288952,
     "status": "ok",
     "timestamp": 1605808793436,
     "user": {
      "displayName": "Camila Laranjeira",
      "photoUrl": "https://lh3.googleusercontent.com/a-/AOh14Gihu3QVmkuyR2Al5S_BxrjkrW8O_oUwd2ROuOwQerU=s64",
      "userId": "03895474106233302954"
     },
     "user_tz": 180
    },
    "id": "yi7gVVH4clTj",
    "outputId": "5d0d613b-312e-4d0a-a650-110218e79b0b"
   },
   "outputs": [
    {
     "name": "stdout",
     "output_type": "stream",
     "text": [
      "\n",
      " ***************Treino***************\n",
      "Epoca: 0, Loss: 0.6824 +/- 0.0125, Acurácia: 0.5803\n",
      "\n",
      " ***************Teste***************\n",
      "Epoca: 0, Loss: 0.6610 +/- 0.0143, Acurácia: 0.6415\n",
      "\n",
      " ***************Treino***************\n",
      "Epoca: 1, Loss: 0.5729 +/- 0.0651, Acurácia: 0.7085\n",
      "\n",
      " ***************Teste***************\n",
      "Epoca: 1, Loss: 0.5151 +/- 0.0489, Acurácia: 0.7548\n",
      "\n",
      " ***************Treino***************\n",
      "Epoca: 2, Loss: 0.4834 +/- 0.0635, Acurácia: 0.7754\n",
      "\n",
      " ***************Teste***************\n",
      "Epoca: 2, Loss: 0.4567 +/- 0.0654, Acurácia: 0.7893\n",
      "\n",
      " ***************Treino***************\n",
      "Epoca: 3, Loss: 0.4351 +/- 0.0699, Acurácia: 0.8046\n",
      "\n",
      " ***************Teste***************\n",
      "Epoca: 3, Loss: 0.4399 +/- 0.0714, Acurácia: 0.7980\n",
      "\n",
      " ***************Treino***************\n",
      "Epoca: 4, Loss: 0.3933 +/- 0.0728, Acurácia: 0.8285\n",
      "\n",
      " ***************Teste***************\n",
      "Epoca: 4, Loss: 0.4107 +/- 0.0687, Acurácia: 0.8136\n"
     ]
    }
   ],
   "source": [
    "loss_treino, loss_test = [], []\n",
    "acc_treino, acc_test = [], []\n",
    "\n",
    "for epoca in range(25):\n",
    "  loss, acuracia = forward(train_iterator, len(train_data), 'Treino')\n",
    "  loss_treino.append(loss)\n",
    "  acc_treino.append(acuracia)  \n",
    "\n",
    "  loss, acuracia = forward(valid_iterator, len(valid_data), 'Teste')\n",
    "  loss_test.append(loss)\n",
    "  acc_test.append(acuracia)\n"
   ]
  },
  {
   "cell_type": "code",
   "execution_count": null,
   "metadata": {
    "executionInfo": {
     "elapsed": 1099,
     "status": "ok",
     "timestamp": 1605809379645,
     "user": {
      "displayName": "Camila Laranjeira",
      "photoUrl": "https://lh3.googleusercontent.com/a-/AOh14Gihu3QVmkuyR2Al5S_BxrjkrW8O_oUwd2ROuOwQerU=s64",
      "userId": "03895474106233302954"
     },
     "user_tz": 180
    },
    "id": "7QYHwwMjnPCs"
   },
   "outputs": [],
   "source": [
    "import spacy\n",
    "nlp = spacy.load('en_core_web_sm')\n",
    "\n",
    "def predict_sentiment(sentence):\n",
    "    model.eval()\n",
    "    tokenized = [str(tok) for tok in nlp.tokenizer(sentence)]\n",
    "    print(tokenized)\n",
    "\n",
    "    indexed = [TEXT.vocab.stoi[t] for t in tokenized]\n",
    "    length = [len(indexed)]\n",
    "    print(indexed)\n",
    "    \n",
    "    tensor = torch.LongTensor(indexed).to(device)\n",
    "    tensor = tensor.unsqueeze(1)\n",
    "    length_tensor = torch.LongTensor(length)\n",
    "    \n",
    "    prediction = model(tensor, length_tensor)\n",
    "    \n",
    "    return F.softmax(prediction, dim=-1).cpu().data"
   ]
  },
  {
   "cell_type": "code",
   "execution_count": null,
   "metadata": {
    "colab": {
     "base_uri": "https://localhost:8080/",
     "height": 1000
    },
    "executionInfo": {
     "elapsed": 2129,
     "status": "ok",
     "timestamp": 1605809454815,
     "user": {
      "displayName": "Camila Laranjeira",
      "photoUrl": "https://lh3.googleusercontent.com/a-/AOh14Gihu3QVmkuyR2Al5S_BxrjkrW8O_oUwd2ROuOwQerU=s64",
      "userId": "03895474106233302954"
     },
     "user_tz": 180
    },
    "id": "4TWmS04nobl8",
    "outputId": "2b59ba7a-e023-4d77-9b09-a0f128cc3395"
   },
   "outputs": [],
   "source": [
    "np.random.seed(42)\n",
    "for i in range(5):\n",
    "  idx = np.random.choice(len(test_data))\n",
    "  text = test_data[idx].text \n",
    "  pred = predict_sentiment(' '.join(text) )\n",
    "\n",
    "  plt.bar(0, pred[0], color='darkred', label='Negativo', width=0.5)\n",
    "  plt.bar(1, pred[1], color='dodgerblue', label='Positivo', width=0.5)\n",
    "  plt.title(str(test_data[idx].label))\n",
    "  plt.legend()\n",
    "  plt.show()"
   ]
  }
 ],
 "metadata": {
  "accelerator": "GPU",
  "colab": {
   "authorship_tag": "ABX9TyOswGlvnQmkiiI871OANllv",
   "collapsed_sections": [],
   "name": "Analise de Sentimentos.ipynb",
   "provenance": []
  },
  "kernelspec": {
   "display_name": "venv",
   "language": "python",
   "name": "python3"
  },
  "language_info": {
   "codemirror_mode": {
    "name": "ipython",
    "version": 3
   },
   "file_extension": ".py",
   "mimetype": "text/x-python",
   "name": "python",
   "nbconvert_exporter": "python",
   "pygments_lexer": "ipython3",
   "version": "3.10.12"
  }
 },
 "nbformat": 4,
 "nbformat_minor": 0
}
